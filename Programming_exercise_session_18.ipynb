{
  "nbformat": 4,
  "nbformat_minor": 0,
  "metadata": {
    "colab": {
      "name": "Programming_exercise_session_18",
      "provenance": [],
      "authorship_tag": "ABX9TyMvv0HZ6eaqo3349Y/NoGxB",
      "include_colab_link": true
    },
    "kernelspec": {
      "name": "python3",
      "display_name": "Python 3"
    }
  },
  "cells": [
    {
      "cell_type": "markdown",
      "metadata": {
        "id": "view-in-github",
        "colab_type": "text"
      },
      "source": [
        "<a href=\"https://colab.research.google.com/github/Gopika807/python/blob/master/Programming_exercise_session_18.ipynb\" target=\"_parent\"><img src=\"https://colab.research.google.com/assets/colab-badge.svg\" alt=\"Open In Colab\"/></a>"
      ]
    },
    {
      "cell_type": "markdown",
      "metadata": {
        "id": "ReUCG7CP8hlL"
      },
      "source": [
        "1.Write a python program to get the largest number from a list."
      ]
    },
    {
      "cell_type": "code",
      "metadata": {
        "id": "pohvazMa84qm",
        "outputId": "cfd9bbad-65eb-4e4d-a40a-283958bc3ed6",
        "colab": {
          "base_uri": "https://localhost:8080/",
          "height": 34
        }
      },
      "source": [
        "list1 = [45,67,89,34,12]\n",
        "list1.sort()\n",
        "print(\"Largest number in the list is:\",list1[-1])"
      ],
      "execution_count": 1,
      "outputs": [
        {
          "output_type": "stream",
          "text": [
            "Largest number in the list is: 89\n"
          ],
          "name": "stdout"
        }
      ]
    },
    {
      "cell_type": "markdown",
      "metadata": {
        "id": "KAa2t71a9UbL"
      },
      "source": [
        "2.Wrie a python code to search an element in a list."
      ]
    },
    {
      "cell_type": "code",
      "metadata": {
        "id": "6MvHNNVG9bhF",
        "outputId": "c2a82d9e-3411-417a-e198-5b937e194721",
        "colab": {
          "base_uri": "https://localhost:8080/",
          "height": 34
        }
      },
      "source": [
        "def search(list,item):\n",
        "  for i in range(len(list)):\n",
        "    if list[i] == item:\n",
        "     return True\n",
        "  return False\n",
        "list = ['apple',3,8,'jute',9]\n",
        "item = 'apple'\n",
        "if search(list,item):\n",
        "  print(\"Found the element in list\")\n",
        "else:\n",
        "  print(\"Not Found\")\n",
        "\n",
        "  "
      ],
      "execution_count": 3,
      "outputs": [
        {
          "output_type": "stream",
          "text": [
            "Found the element in list\n"
          ],
          "name": "stdout"
        }
      ]
    },
    {
      "cell_type": "markdown",
      "metadata": {
        "id": "yRo_DwoY-sng"
      },
      "source": [
        "3.Write a python program to sum all the items in a list."
      ]
    },
    {
      "cell_type": "code",
      "metadata": {
        "id": "b4ZZOLEMAGwk",
        "outputId": "87e63af5-851c-4420-c3f9-a00d67a73e93",
        "colab": {
          "base_uri": "https://localhost:8080/",
          "height": 34
        }
      },
      "source": [
        "list1 = [2,4,6,8]\n",
        "newlist = sum(list1)\n",
        "print(\"Sum of all numbers in the list\",newlist)"
      ],
      "execution_count": 26,
      "outputs": [
        {
          "output_type": "stream",
          "text": [
            "Sum of all numbers in the list 20\n"
          ],
          "name": "stdout"
        }
      ]
    },
    {
      "cell_type": "markdown",
      "metadata": {
        "id": "6Q7KJ8Z6AjRq"
      },
      "source": [
        "4.Write a python program to remove duplicates from a list"
      ]
    },
    {
      "cell_type": "code",
      "metadata": {
        "id": "OQXhzCBXAv2G",
        "outputId": "af971e33-4a55-4e80-88e1-f9830cc3e76e",
        "colab": {
          "base_uri": "https://localhost:8080/",
          "height": 34
        }
      },
      "source": [
        "mylist = [1,3,5,7,9,2,4,1,3]\n",
        "newlist = set(mylist)\n",
        "print(newlist)"
      ],
      "execution_count": 6,
      "outputs": [
        {
          "output_type": "stream",
          "text": [
            "{1, 2, 3, 4, 5, 7, 9}\n"
          ],
          "name": "stdout"
        }
      ]
    },
    {
      "cell_type": "markdown",
      "metadata": {
        "id": "FqlFAK62BNv-"
      },
      "source": [
        "5.Write a python function that takes two lists and returns True if they have at least one common member."
      ]
    },
    {
      "cell_type": "code",
      "metadata": {
        "id": "_nOqxCPJBgt6",
        "outputId": "fcd175d9-3d3d-4bb9-cebe-0f6a5bb4b98d",
        "colab": {
          "base_uri": "https://localhost:8080/",
          "height": 34
        }
      },
      "source": [
        "def common_member(list1,list2):\n",
        "  result = False\n",
        "  for i in list1:\n",
        "    for j in list2:\n",
        "      if i==j:\n",
        "        result = True\n",
        "        return result\n",
        "      return result\n",
        "list1 = [1,2,3,4,5]\n",
        "list2 = [5,6,7,8,9]\n",
        "print(common_member(list1,list2))"
      ],
      "execution_count": 12,
      "outputs": [
        {
          "output_type": "stream",
          "text": [
            "False\n"
          ],
          "name": "stdout"
        }
      ]
    },
    {
      "cell_type": "markdown",
      "metadata": {
        "id": "PN5t0x6JFxHa"
      },
      "source": [
        "6.Write a python program to append a list to the second list."
      ]
    },
    {
      "cell_type": "code",
      "metadata": {
        "id": "kawbZz8vGVIm",
        "outputId": "8fc5e2e0-2b98-42a6-dbd5-a1bc8f645f84",
        "colab": {
          "base_uri": "https://localhost:8080/",
          "height": 34
        }
      },
      "source": [
        "l1 = [1,2,3]\n",
        "l2 = [\"Apple,Grapes,Orange\"]\n",
        "l1.extend(l2)\n",
        "print(\"New list is\", l1)"
      ],
      "execution_count": 14,
      "outputs": [
        {
          "output_type": "stream",
          "text": [
            "New list is [1, 2, 3, 'Apple,Grapes,Orange']\n"
          ],
          "name": "stdout"
        }
      ]
    },
    {
      "cell_type": "markdown",
      "metadata": {
        "id": "w9nb9MqOHwsy"
      },
      "source": [
        "7.Write a python program to check if a given number is a composite number or not."
      ]
    },
    {
      "cell_type": "code",
      "metadata": {
        "id": "dbQ2oMJ_IJSZ",
        "outputId": "d4042623-81ba-47ae-823e-2ffd6143c304",
        "colab": {
          "base_uri": "https://localhost:8080/",
          "height": 51
        }
      },
      "source": [
        "n=int(input(\"Enter the number:\"))\n",
        "factor=0\n",
        "for i in range(1,n):\n",
        "  if n%1==0:\n",
        "    factor=i\n",
        "  if factor>1:\n",
        "    print (\"This is a composite number\")\n",
        "  elif n==1:\n",
        "    print (\"The number 1 is neither prime nor composite\")\n",
        "  else:\n",
        "   print (\"This is not a composite number\")"
      ],
      "execution_count": 34,
      "outputs": [
        {
          "output_type": "stream",
          "text": [
            "Enter the number:2\n",
            "This is not a composite number\n"
          ],
          "name": "stdout"
        }
      ]
    },
    {
      "cell_type": "markdown",
      "metadata": {
        "id": "C8EcI2m3KCUa"
      },
      "source": [
        "8.Write a python code to add two matrices using list.\n"
      ]
    },
    {
      "cell_type": "code",
      "metadata": {
        "id": "IpwH02wyKqBf",
        "outputId": "df51737e-0fd4-4130-b344-921b4819e273",
        "colab": {
          "base_uri": "https://localhost:8080/",
          "height": 68
        }
      },
      "source": [
        "X = [[1,2,3],[4,5,6],[7,8,9]]\n",
        "Y = [[3,2,1],[6,5,4],[9,8,7]]\n",
        "result = [[X[i][j] + Y[i][j] for j in range (len(X[0]))] for i in range(len(X))]\n",
        "for r in result:\n",
        "  print(r) "
      ],
      "execution_count": 24,
      "outputs": [
        {
          "output_type": "stream",
          "text": [
            "[4, 4, 4]\n",
            "[10, 10, 10]\n",
            "[16, 16, 16]\n"
          ],
          "name": "stdout"
        }
      ]
    },
    {
      "cell_type": "markdown",
      "metadata": {
        "id": "EAn04aieL68J"
      },
      "source": [
        "9.Write a python program to check if a string is palindrome or not."
      ]
    },
    {
      "cell_type": "code",
      "metadata": {
        "id": "qE_-YWsoMN0D",
        "outputId": "6575ebaf-4cf2-471e-f448-d9a633bbc598",
        "colab": {
          "base_uri": "https://localhost:8080/",
          "height": 51
        }
      },
      "source": [
        "string = input(\"Enter a string:\")\n",
        "revstring = string[::-1]\n",
        "if(revstring == string):\n",
        "  print(\"This is a palindrome string\")\n",
        "else:\n",
        "  print(\"This is not a palindrome string\")"
      ],
      "execution_count": 22,
      "outputs": [
        {
          "output_type": "stream",
          "text": [
            "Enter a string:Kerala\n",
            "This is not a palindrome string\n"
          ],
          "name": "stdout"
        }
      ]
    },
    {
      "cell_type": "markdown",
      "metadata": {
        "id": "RmHVXYbbM8TI"
      },
      "source": [
        "10.Write a python program to print multiplication table of a number"
      ]
    },
    {
      "cell_type": "code",
      "metadata": {
        "id": "2lfvsRYJNGYh",
        "outputId": "bdff6499-eddc-4cd3-82d2-9ecb12f1cfb6",
        "colab": {
          "base_uri": "https://localhost:8080/",
          "height": 221
        }
      },
      "source": [
        "n = int(input(\"Enter the value\"))\n",
        "i = 1\n",
        "while(i<=10):\n",
        "  print(i,\"*\",n,\"=\",i*n)\n",
        "  i = i+1\n",
        "print()"
      ],
      "execution_count": 21,
      "outputs": [
        {
          "output_type": "stream",
          "text": [
            "Enter the value6\n",
            "1 * 6 = 6\n",
            "2 * 6 = 12\n",
            "3 * 6 = 18\n",
            "4 * 6 = 24\n",
            "5 * 6 = 30\n",
            "6 * 6 = 36\n",
            "7 * 6 = 42\n",
            "8 * 6 = 48\n",
            "9 * 6 = 54\n",
            "10 * 6 = 60\n",
            "\n"
          ],
          "name": "stdout"
        }
      ]
    }
  ]
}